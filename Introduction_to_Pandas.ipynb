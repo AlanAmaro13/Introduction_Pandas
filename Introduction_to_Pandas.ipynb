{
  "nbformat": 4,
  "nbformat_minor": 0,
  "metadata": {
    "colab": {
      "provenance": [],
      "authorship_tag": "ABX9TyPjDAKHaaJYUy2DPLlr3+nf",
      "include_colab_link": true
    },
    "kernelspec": {
      "name": "python3",
      "display_name": "Python 3"
    },
    "language_info": {
      "name": "python"
    }
  },
  "cells": [
    {
      "cell_type": "markdown",
      "metadata": {
        "id": "view-in-github",
        "colab_type": "text"
      },
      "source": [
        "<a href=\"https://colab.research.google.com/github/AlanAmaro13/Introduction_Pandas/blob/main/Introduction_to_Pandas.ipynb\" target=\"_parent\"><img src=\"https://colab.research.google.com/assets/colab-badge.svg\" alt=\"Open In Colab\"/></a>"
      ]
    },
    {
      "cell_type": "markdown",
      "source": [
        "# _Introduction to Pandas_"
      ],
      "metadata": {
        "id": "_JXedbz72wmL"
      }
    },
    {
      "cell_type": "markdown",
      "source": [
        "So, Pandas is a Python LIbrary, it's primary used to analize huge DataSets. It has funciton for analyzing, cleaning, exploring, and manipulating data.\n"
      ],
      "metadata": {
        "id": "Tc4Af9wQ21i3"
      }
    },
    {
      "cell_type": "markdown",
      "source": [
        "The name Pandas has a reference to both _Panel Data_ and _Python Data Analysis_, and it was created by Wes McKinney in 2008."
      ],
      "metadata": {
        "id": "2W3cLQ9V28gS"
      }
    },
    {
      "cell_type": "markdown",
      "source": [
        "* Pandas allows us to analyze big data and make conclusions based on statistical theories.\n",
        "* Pandas can give us the correlation between two or more columns, average value, min and max.\n",
        "*"
      ],
      "metadata": {
        "id": "kODLMc8N3D0Y"
      }
    },
    {
      "cell_type": "code",
      "execution_count": null,
      "metadata": {
        "id": "l5KkLqjc2r2b"
      },
      "outputs": [],
      "source": []
    },
    {
      "cell_type": "code",
      "source": [],
      "metadata": {
        "id": "6FMQrav22v8f"
      },
      "execution_count": null,
      "outputs": []
    }
  ]
}