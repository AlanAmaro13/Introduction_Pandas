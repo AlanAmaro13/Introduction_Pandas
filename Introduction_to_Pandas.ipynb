{
  "nbformat": 4,
  "nbformat_minor": 0,
  "metadata": {
    "colab": {
      "provenance": [],
      "authorship_tag": "ABX9TyNvZXqr74PsbS2ip+KJfA6b",
      "include_colab_link": true
    },
    "kernelspec": {
      "name": "python3",
      "display_name": "Python 3"
    },
    "language_info": {
      "name": "python"
    }
  },
  "cells": [
    {
      "cell_type": "markdown",
      "metadata": {
        "id": "view-in-github",
        "colab_type": "text"
      },
      "source": [
        "<a href=\"https://colab.research.google.com/github/AlanAmaro13/Introduction_Pandas/blob/main/Introduction_to_Pandas.ipynb\" target=\"_parent\"><img src=\"https://colab.research.google.com/assets/colab-badge.svg\" alt=\"Open In Colab\"/></a>"
      ]
    },
    {
      "cell_type": "markdown",
      "source": [
        "# _Introduction to Pandas_"
      ],
      "metadata": {
        "id": "_JXedbz72wmL"
      }
    },
    {
      "cell_type": "markdown",
      "source": [
        "So, Pandas is a Python LIbrary, it's primary used to analize huge DataSets. It has funciton for analyzing, cleaning, exploring, and manipulating data.\n"
      ],
      "metadata": {
        "id": "Tc4Af9wQ21i3"
      }
    },
    {
      "cell_type": "markdown",
      "source": [
        "The name Pandas has a reference to both _Panel Data_ and _Python Data Analysis_, and it was created by Wes McKinney in 2008."
      ],
      "metadata": {
        "id": "2W3cLQ9V28gS"
      }
    },
    {
      "cell_type": "markdown",
      "source": [
        "* Pandas allows us to analyze big data and make conclusions based on statistical theories.\n",
        "* Pandas can give us the correlation between two or more columns, average value, min and max.\n",
        "*"
      ],
      "metadata": {
        "id": "kODLMc8N3D0Y"
      }
    },
    {
      "cell_type": "markdown",
      "source": [
        "## Instalación"
      ],
      "metadata": {
        "id": "sprlDzvg3yLm"
      }
    },
    {
      "cell_type": "markdown",
      "source": [
        "In order to install Pandas we use PIP, with the following command:"
      ],
      "metadata": {
        "id": "fc9UeZNC30IG"
      }
    },
    {
      "cell_type": "code",
      "execution_count": 1,
      "metadata": {
        "colab": {
          "base_uri": "https://localhost:8080/"
        },
        "id": "l5KkLqjc2r2b",
        "outputId": "d2090bbb-d2b6-45e1-f95e-19185d896f0c"
      },
      "outputs": [
        {
          "output_type": "stream",
          "name": "stdout",
          "text": [
            "Requirement already satisfied: pandas in /usr/local/lib/python3.10/dist-packages (2.0.3)\n",
            "Requirement already satisfied: python-dateutil>=2.8.2 in /usr/local/lib/python3.10/dist-packages (from pandas) (2.8.2)\n",
            "Requirement already satisfied: pytz>=2020.1 in /usr/local/lib/python3.10/dist-packages (from pandas) (2023.4)\n",
            "Requirement already satisfied: tzdata>=2022.1 in /usr/local/lib/python3.10/dist-packages (from pandas) (2024.1)\n",
            "Requirement already satisfied: numpy>=1.21.0 in /usr/local/lib/python3.10/dist-packages (from pandas) (1.25.2)\n",
            "Requirement already satisfied: six>=1.5 in /usr/local/lib/python3.10/dist-packages (from python-dateutil>=2.8.2->pandas) (1.16.0)\n"
          ]
        }
      ],
      "source": [
        "! pip install pandas"
      ]
    },
    {
      "cell_type": "markdown",
      "source": [
        "* Installing Pandas in Conda or Spyder can be a total difference process"
      ],
      "metadata": {
        "id": "S8QzwEeO4CZL"
      }
    },
    {
      "cell_type": "code",
      "source": [
        "# Using pandas us usual as pd:\n",
        "import pandas as pd\n",
        "\n",
        "print(pd.__version__)"
      ],
      "metadata": {
        "colab": {
          "base_uri": "https://localhost:8080/"
        },
        "id": "wGqrTtTp4UoM",
        "outputId": "607a63fa-147e-453d-a301-34c6f6fcc382"
      },
      "execution_count": 2,
      "outputs": [
        {
          "output_type": "stream",
          "name": "stdout",
          "text": [
            "2.0.3\n"
          ]
        }
      ]
    },
    {
      "cell_type": "markdown",
      "source": [
        "## Pandas Series"
      ],
      "metadata": {
        "id": "OLb69rgY4O5e"
      }
    },
    {
      "cell_type": "markdown",
      "source": [
        "What's a Series? A Pandas Series refers to a column, a 1D array holding any kind of data."
      ],
      "metadata": {
        "id": "P_wCrkUS46l-"
      }
    },
    {
      "cell_type": "code",
      "source": [
        "import pandas as pd\n",
        "a = [1, 7, 2]\n",
        "\n",
        "myser = pd.Series(a) # We're using the Series() method in a list to create a Ser\n",
        "\n",
        "print(myser)"
      ],
      "metadata": {
        "colab": {
          "base_uri": "https://localhost:8080/"
        },
        "id": "6FMQrav22v8f",
        "outputId": "2d94e050-b914-489c-fe4b-87ea948f0d21"
      },
      "execution_count": 3,
      "outputs": [
        {
          "output_type": "stream",
          "name": "stdout",
          "text": [
            "0    1\n",
            "1    7\n",
            "2    2\n",
            "dtype: int64\n"
          ]
        }
      ]
    },
    {
      "cell_type": "code",
      "source": [
        "# As you can see, the elements are indexed, this index is call \"label\"\n",
        "# we can access to an element using index\n",
        "\n",
        "print(\"Index 2, number 3: \",myser[2])\n",
        "\n",
        "# We can also set our own index\n",
        "\n",
        "myser2 = pd.Series(a, index=[\"x\", \"y\", \"z\"])\n",
        "print(\"\\nUsing a new index: \\n\", myser2) # Also we can access to elements\n",
        "\n",
        "# If we have a dictionary, the index is the key\n",
        "calories = {\"day1\": 420, \"day2\": 380, \"day3\": 390}\n",
        "\n",
        "myser3 = pd.Series(calories)\n",
        "print(\"\\nDay 1 in Calories: \", myser3[\"day1\"])\n",
        "\n",
        "# To select only a few elements, we use the index parameter:\n",
        "\n",
        "myser4 = pd.Series(calories, index = [\"day2\", \"day3\"])\n",
        "print(\"\\nUsing index:\\n\", myser4)\n",
        "\n"
      ],
      "metadata": {
        "colab": {
          "base_uri": "https://localhost:8080/"
        },
        "id": "sv_pL4uz5TaJ",
        "outputId": "7b5a584b-8327-4442-a553-8af528e7be01"
      },
      "execution_count": 15,
      "outputs": [
        {
          "output_type": "stream",
          "name": "stdout",
          "text": [
            "Index 2, number 3:  2\n",
            "\n",
            "Using a new index: \n",
            " x    1\n",
            "y    7\n",
            "z    2\n",
            "dtype: int64\n",
            "\n",
            "Day 1 in Calories:  420\n",
            "\n",
            "Using index:\n",
            " day2    380\n",
            "day3    390\n",
            "dtype: int64\n"
          ]
        }
      ]
    },
    {
      "cell_type": "markdown",
      "source": [
        "## DataFrames"
      ],
      "metadata": {
        "id": "r27MUCOv7EfV"
      }
    },
    {
      "cell_type": "markdown",
      "source": [
        "A Pandas DataFrame is a 2 Dimensional Structure,"
      ],
      "metadata": {
        "id": "Vun9BEPF7GXo"
      }
    },
    {
      "cell_type": "code",
      "source": [],
      "metadata": {
        "id": "awDMhpyR7F52"
      },
      "execution_count": null,
      "outputs": []
    }
  ]
}